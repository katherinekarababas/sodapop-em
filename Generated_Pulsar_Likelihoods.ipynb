{
  "nbformat": 4,
  "nbformat_minor": 0,
  "metadata": {
    "colab": {
      "name": "Generated Pulsar Likelihoods",
      "provenance": [],
      "authorship_tag": "ABX9TyOLzdbHIKt1Yhssuv1pAv/S",
      "include_colab_link": true
    },
    "kernelspec": {
      "name": "python3",
      "display_name": "Python 3"
    },
    "language_info": {
      "name": "python"
    }
  },
  "cells": [
    {
      "cell_type": "markdown",
      "metadata": {
        "id": "view-in-github",
        "colab_type": "text"
      },
      "source": [
        "<a href=\"https://colab.research.google.com/github/katherinekarababas/sodapop-em/blob/master/Generated_Pulsar_Likelihoods.ipynb\" target=\"_parent\"><img src=\"https://colab.research.google.com/assets/colab-badge.svg\" alt=\"Open In Colab\"/></a>"
      ]
    },
    {
      "cell_type": "code",
      "execution_count": 1,
      "metadata": {
        "id": "gQNcqke3fB-c"
      },
      "outputs": [],
      "source": [
        "import numpy as np "
      ]
    },
    {
      "cell_type": "code",
      "source": [
        "# generated likelihoods for pulsars with gaussian mass\n",
        "\n",
        "psr_mass = np.array([1.96, 1.71, 1.21, 1.57, 1.53, 1.96, 1.74, 2.0, 2.12, 1.02, 1.57, 1.073, 1.44, 1.91, 1.57, 1.41, 1.559, 1.174, 1.291, 1.322, 1.3332, 1.3452, 1.4398, 1.3886, 1.358, 1.354, 1.3381, 1.2489, 1.312, 1.258, 1.3655, 1.2064, 1.33, 1.40, 1.35, 1.37, 1.72, 1.27, 1.47, 1.908, 2.01, 1.76, 1.393, 1.47, 1.83, 1.44, 1.48, 1.24, 1.34, 1.38, 1.4378, 1.828, 1.29, 2.3, 1.58, 1.71, 1.666, 2.08])\n",
        "psr_sd = np.array([0.19, 0.21, 0.12, 0.16, 0.42, 0.36, 0.3, 0.4, 0.16, 0.17, 0.11, 0.36, 0.1, 0.45, 0.25, 0.24, 0.004, 0.004, 0.011, 0.011, 0.0010, 0.0010, 0.0002, 0.0002, 0.010, 0.010, 0.0007, 0.0007, 0.017, 0.017, 0.0021, 0.0020, 0.3, 0.21, 0.07, 0.13, 0.07, 0.01, 0.07, 0.016, 0.04, 0.06, 0.013, 0.43, 0.11, 0.07, 0.03, 0.11, 0.08, 0.13, 0.0013, 0.022, 0.1, 0.7, 0.34, 0.16, 0.01, 0.07])\n",
        "psr_name = ['4U1700-377', 'Cyg_X-2', 'SMC_X-1', 'Cen_X-3', 'XTE_J2123-058', '4U_1822-37', 'OAO_1657-415', 'J013236.7+303228', 'Vela_X-1', '4U1538-522', 'LMC_X-4', 'Her_X-1', '2S_0921-630', 'EXO_1722-363', 'SAXJ1802.7-2017', 'XTEJ1855-026', 'J0453+1559', 'J0453+1559_comp.', 'J1906+0746', 'J190+0746_comp.', 'B1534+12', 'B1534+12_comp.', 'B1913+16', 'B1913+16_comp.', 'B2127+11C', 'B2127+11C_comp.', 'J0737-3039A', 'J0737-3039B', 'J1756-2251', 'J1756-2251_comp.', 'J1807-2500B', 'J1807-2500B_comp.', 'J2045+3633', 'J2053+4650', 'J1713+0747', 'B1855+09', 'J0751+1807', 'J1141-6545', 'J1738+0333', 'J1614-2230', 'J0348+0432', 'J2222-0137', 'J2234+0611', 'J1949+3106', 'J1012+5307', 'J0437+4715', 'J1909-3744', 'J1802-2124', 'J1911-5958A', 'J2043+1711', 'J0337+1715', 'J1946+3417', 'J1918-0642', 'J1600-3053', 'J0045-7319', 'J1023+0038', 'J1903+0327', 'J0740+6602']\n",
        "\n",
        "wts = np.ones(100) #need to include this as equal likelihoods for each sample\n",
        "\n",
        "for i in range(0,58):\n",
        "  mu, sigma = psr_mass[i], psr_sd[i] # psr mass and sd respectively\n",
        "  s = np.random.normal(mu, sigma, 100) # likelihood samples \n",
        "  np.savetxt('psr_'+psr_name[i]+'.csv', np.column_stack([s,wts]), delimiter=',', header='m,likelihood', comments ='')"
      ],
      "metadata": {
        "id": "ReIPMfVBfNBK"
      },
      "execution_count": 2,
      "outputs": []
    },
    {
      "cell_type": "code",
      "source": [
        "# generated likelihoods given mass function and total mass\n",
        "\n",
        "def likelihood_tm(m_total, m_psr, m_func, m_mean, mt_un): # equation 4 from A Population-Informed Mass Estimate for Pulsar J0740+6620 paper\n",
        "    return np.exp(-(m_total-m_mean)**2/(2*mt_un**2))*m_total**(4/3)/(3*(m_total-m_psr)**2*m_func**(1/3)*(1-(m_func**(2/3)*m_total**(4/3))/(m_total-m_psr)**2)**(1/2))\n",
        "\n",
        "m_func = np.array ([0.136344, 0.001927, 0.14549547, 0.027026849, 0.000646723, 0.0002266235, 0.003658, 0.013066, 0.00945034, 0.006553, 0.246261924525, 0.0518649]) # mass funtion\n",
        "m_mean = np.array ([2.875, 1.665, 2.453, 2.32, 2.29, 2.92, 2.17, 2.20, 1.62, 1.616, 2.64, 1.97]) # total mass\n",
        "mt_un = np.array ([0.014, 0.007, 0.014, 0.08, 0.17, 0.20, 0.02, 0.04, 0.07, 0.007, 0.05, 0.15]) # uncertainty for each total mass\n",
        "psr_mt_name = ['J1913+1102', 'J0024-7204H', 'J0514-4002A', 'J0621+1002', 'B1516+02B', 'J1748-2021B', 'J1748-2446I', 'J1748-2446J', 'B1802-07', 'J1824-2452C', 'B2303+46', 'J1750-37A'] #plusar name\n",
        "\n",
        "# for loop to generate .csv files of the likelihood for each pulsar\n",
        "for k in range(0,12):\n",
        "  mt_samples = []\n",
        "  psr_samples = []\n",
        "  tm_like = []\n",
        "  mt_samp =  np.array (np.random.normal(m_mean[k], mt_un[k], 100)) # likelihood samples for the total mass\n",
        "  for i in mt_samp:\n",
        "    psr_samp = np.random.uniform(1., i-m_func[k]**(1/3)*i**(2/3), 1)[0] # likelihood samples for the pulsar mass (upper limit ensures that pulsar mass is not greater than total mass)\n",
        "    tm_like += [likelihood_tm(i, psr_samp, m_func[k], m_mean[k], mt_un[k])] # probabilities of pulsar masses given the defined values\n",
        "    psr_samples = np.append(psr_samples, psr_samp)\n",
        "    mt_samples = np.append(mt_samples, i)\n",
        "  samples = np.random.choice(range(len(mt_samples)), 100, True, tm_like/np.sum(tm_like)) # likelihood samples \n",
        "  # print ('samples =', samples)\n",
        "  # print ('tm_like =', tm_like)\n",
        "  wts = np.ones((100,1)) #weight of each pulsar\n",
        "  total_likes = []\n",
        "  for index in samples:\n",
        "    test = [mt_samples[index], psr_samples[index]]\n",
        "    total_likes = np.append (total_likes, test)\n",
        "  like_t = np.reshape(total_likes, (100,2)) # this is a 2D array of the total masses and the pulsar masses \n",
        "  np.savetxt('psr_mt_'+psr_mt_name[k]+'.csv', np.column_stack([like_t,wts]), delimiter=',', header='tm, m, likelihood', comments ='') # final .csv files"
      ],
      "metadata": {
        "id": "_B4QIyOSfaug"
      },
      "execution_count": 3,
      "outputs": []
    },
    {
      "cell_type": "code",
      "source": [
        "# generated likelihoods given mass function and mass ratio\n",
        "\n",
        "def likelihood_mr(m_ratio, m_psr, m_func, mr_mean, mr_un): # equation 5 from A Population-Informed Mass Estimate for Pulsar J0740+6620 paper\n",
        "  return np.exp(-(m_ratio-mr_mean)**2/(2*mr_un**2)*(1+m_ratio)**(4/3)/(3*m_func**(1/3)*m_psr**(2/3)*m_ratio**2*(1-(m_func/m_psr)**(2/3)*(1/m_ratio)**(4/3)/m_ratio**2)))\n",
        "\n",
        "# all data points from Alsing paper\n",
        "mr_func = np.array ([5e-6, 3e-7, 0.002644, 0.0017607, 0.005221]) # mass function\n",
        "mr_mean = np.array ([69.2, 175, 5.85, 9.54, 3.45]) # mass ratio (q)\n",
        "mr_un = np.array ([0.8, 3, 0.13, 0.21, 0.02]) # uncertainties for the mass ratios\n",
        "psr_mr_name = ['B1957+20', 'J1311-3430', 'J1740-5350', 'J1816+4510', 'J1723-2837'] # pulsar name\n",
        "\n",
        "# for loop to generate .csv files for the likelihood of each pulsar\n",
        "for k in range(0,5):\n",
        "  mr_samples = []\n",
        "  psr_samples = []\n",
        "  rm_like = []\n",
        "  mr_samp = np.random.normal (mr_mean[k], mr_un[k], 100) # likelihood samples for the mass ratio\n",
        "  for i in mr_samp:\n",
        "    psr_samp = np.random.uniform (1., 3., 1)[0] # likelihhod samples for the pulsar mass \n",
        "    rm_like += [likelihood_mr(i, psr_samp, mr_func[k], mr_mean[k], mr_un[k])] # probabilities of the pulsar mass given each defined value\n",
        "    psr_samples = np.append(psr_samples, psr_samp)\n",
        "    mr_samples = np.append (mr_samples, i)\n",
        "  samples = np.random.choice(range(len(mr_samples)), 100, True, rm_like/np.sum(rm_like)) # likelihood samples\n",
        "  wts = np.ones ((100,1)) # weight of each pulsar \n",
        "  total_likes = []\n",
        "  for index in samples:\n",
        "    test = [mr_samples[index], psr_samples[index]]\n",
        "    total_likes = np.append (total_likes, test) \n",
        "  likes_q = np.reshape (total_likes, (100,2)) # this is a 2D array of the mass ratios and the pulsar masses\n",
        "  np.savetxt ('psr_mr_'+psr_mr_name[k]+'.csv', np.column_stack([likes_q,wts]), delimiter=',', header='q, m, likelihood', comments='') # final .csv files"
      ],
      "metadata": {
        "id": "fw8yXb8yfsVP"
      },
      "execution_count": 4,
      "outputs": []
    },
    {
      "cell_type": "code",
      "source": [
        "# list created for each set of likelihoods as well as a total list of all likelihoods together\n",
        "\n",
        "g_likelihood = ','.join(['psr_'+psr_name[i]+'.csv' for i in range(0,58)]) # gaussian pulsars\n",
        "mt_likelihood = ','.join(['psr_mt_'+psr_mt_name[i]+'.csv' for i in range(0,12)]) # total mass pulsars\n",
        "mr_likelihood = ','.join(['psr_mr_'+psr_mr_name[i]+'.csv' for i in range(0,5)]) # mass ratio pulsars\n",
        "likelihood = g_likelihood + ',' + mt_likelihood + ',' + mr_likelihood # list of all types of likelihoods"
      ],
      "metadata": {
        "id": "_wC6Cn4RgFB6"
      },
      "execution_count": 5,
      "outputs": []
    },
    {
      "cell_type": "code",
      "source": [
        ""
      ],
      "metadata": {
        "id": "mdJ1ytXygVap"
      },
      "execution_count": null,
      "outputs": []
    }
  ]
}