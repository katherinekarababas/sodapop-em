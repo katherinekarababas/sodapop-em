{
  "nbformat": 4,
  "nbformat_minor": 0,
  "metadata": {
    "colab": {
      "name": "Different Models for 5 Mock Observations",
      "provenance": [],
      "collapsed_sections": []
    },
    "kernelspec": {
      "name": "python3",
      "display_name": "Python 3"
    },
    "language_info": {
      "name": "python"
    }
  },
  "cells": [
    {
      "cell_type": "code",
      "metadata": {
        "colab": {
          "base_uri": "https://localhost:8080/"
        },
        "id": "OJmZJ3xQ3Oto",
        "outputId": "dfb59e35-e9db-4c47-922a-4482e25fd0d2"
      },
      "source": [
        "# download and install the code\n",
        "\n",
        "%%bash\n",
        "# make this cell an instance of a terminal\n",
        "\n",
        "git clone -b dev https://github.com/katherinekarababas/sodapop-em.git # download code repository from https://github.com/landryp/sodapop/tree/dev\n",
        "\n",
        "mkdir /opt/bin /opt/lib/ /opt/lib/python3.7 /opt/lib/python3.7/site-packages # create install directory and make it findable\n",
        "export PATH=$PATH:/opt/bin\n",
        "export PYTHONPATH=$PYTHONPATH:/opt/lib/python3.7/site-packages\n",
        "\n",
        "cd sodapop-em # install code\n",
        "python3 setup.py install --prefix /opt/\n",
        "\n",
        "python3 -m pip install emcee # also install emcee package to handle markov-chain monte carlo sampling\n",
        "\n",
        "echo -e '\\n *** \\n'\n",
        "\n",
        "sample-pop-params -h # this is the executable from sodapop that draws samples in the population model's parameters (e.g. mmin and mmax); print its help string to see the syntax for calling it\n",
        "\n",
        "echo -e '\\n *** \\n'\n",
        "\n",
        "infer-pop-params -h # this is the executable from sodapop that calculates the posterior probability of the sampled population parameters; print its help string to see the syntax for calling it\n",
        "\n",
        "echo -e '\\n *** \\n'\n",
        "\n",
        "build-ppd -h # this is the executable that postprocesses the population posterior samples to calculate the inferred mass distribution; print its help string to see the syntax for calling it\n",
        "\n",
        "echo -e '\\n *** \\n'"
      ],
      "execution_count": 1,
      "outputs": [
        {
          "output_type": "stream",
          "name": "stdout",
          "text": [
            "running install\n",
            "running bdist_egg\n",
            "running egg_info\n",
            "creating sodapop.egg-info\n",
            "writing sodapop.egg-info/PKG-INFO\n",
            "writing dependency_links to sodapop.egg-info/dependency_links.txt\n",
            "writing top-level names to sodapop.egg-info/top_level.txt\n",
            "writing manifest file 'sodapop.egg-info/SOURCES.txt'\n",
            "writing manifest file 'sodapop.egg-info/SOURCES.txt'\n",
            "installing library code to build/bdist.linux-x86_64/egg\n",
            "running install_lib\n",
            "running build_py\n",
            "creating build\n",
            "creating build/lib\n",
            "creating build/lib/sodapop\n",
            "copying sodapop/priors.py -> build/lib/sodapop\n",
            "copying sodapop/diagnostics.py -> build/lib/sodapop\n",
            "copying sodapop/parameters.py -> build/lib/sodapop\n",
            "copying sodapop/emcee.py -> build/lib/sodapop\n",
            "copying sodapop/select.py -> build/lib/sodapop\n",
            "copying sodapop/__init__.py -> build/lib/sodapop\n",
            "copying sodapop/populations.py -> build/lib/sodapop\n",
            "creating build/bdist.linux-x86_64\n",
            "creating build/bdist.linux-x86_64/egg\n",
            "creating build/bdist.linux-x86_64/egg/sodapop\n",
            "copying build/lib/sodapop/priors.py -> build/bdist.linux-x86_64/egg/sodapop\n",
            "copying build/lib/sodapop/diagnostics.py -> build/bdist.linux-x86_64/egg/sodapop\n",
            "copying build/lib/sodapop/parameters.py -> build/bdist.linux-x86_64/egg/sodapop\n",
            "copying build/lib/sodapop/emcee.py -> build/bdist.linux-x86_64/egg/sodapop\n",
            "copying build/lib/sodapop/select.py -> build/bdist.linux-x86_64/egg/sodapop\n",
            "copying build/lib/sodapop/__init__.py -> build/bdist.linux-x86_64/egg/sodapop\n",
            "copying build/lib/sodapop/populations.py -> build/bdist.linux-x86_64/egg/sodapop\n",
            "byte-compiling build/bdist.linux-x86_64/egg/sodapop/priors.py to priors.cpython-37.pyc\n",
            "byte-compiling build/bdist.linux-x86_64/egg/sodapop/diagnostics.py to diagnostics.cpython-37.pyc\n",
            "byte-compiling build/bdist.linux-x86_64/egg/sodapop/parameters.py to parameters.cpython-37.pyc\n",
            "byte-compiling build/bdist.linux-x86_64/egg/sodapop/emcee.py to emcee.cpython-37.pyc\n",
            "byte-compiling build/bdist.linux-x86_64/egg/sodapop/select.py to select.cpython-37.pyc\n",
            "byte-compiling build/bdist.linux-x86_64/egg/sodapop/__init__.py to __init__.cpython-37.pyc\n",
            "byte-compiling build/bdist.linux-x86_64/egg/sodapop/populations.py to populations.cpython-37.pyc\n",
            "creating build/bdist.linux-x86_64/egg/EGG-INFO\n",
            "installing scripts to build/bdist.linux-x86_64/egg/EGG-INFO/scripts\n",
            "running install_scripts\n",
            "running build_scripts\n",
            "creating build/scripts-3.7\n",
            "copying and adjusting bin/plot-pop-model -> build/scripts-3.7\n",
            "copying and adjusting bin/extract-pop-param-quantiles -> build/scripts-3.7\n",
            "copying and adjusting bin/reweight-masses -> build/scripts-3.7\n",
            "copying bin/infer-pop-params.sh -> build/scripts-3.7\n",
            "copying and adjusting bin/build-ppd -> build/scripts-3.7\n",
            "copying and adjusting bin/POP-FIT-CONDOR -> build/scripts-3.7\n",
            "copying bin/sample-pop-params.sh -> build/scripts-3.7\n",
            "copying and adjusting bin/sample-pop-params -> build/scripts-3.7\n",
            "copying bin/write-execs -> build/scripts-3.7\n",
            "copying and adjusting bin/infer-pop-params -> build/scripts-3.7\n",
            "copying and adjusting bin/checkpopmodels -> build/scripts-3.7\n",
            "changing mode of build/scripts-3.7/plot-pop-model from 644 to 755\n",
            "changing mode of build/scripts-3.7/extract-pop-param-quantiles from 644 to 755\n",
            "changing mode of build/scripts-3.7/reweight-masses from 644 to 755\n",
            "changing mode of build/scripts-3.7/build-ppd from 644 to 755\n",
            "changing mode of build/scripts-3.7/POP-FIT-CONDOR from 644 to 755\n",
            "changing mode of build/scripts-3.7/sample-pop-params from 644 to 755\n",
            "changing mode of build/scripts-3.7/write-execs from 644 to 755\n",
            "changing mode of build/scripts-3.7/infer-pop-params from 644 to 755\n",
            "changing mode of build/scripts-3.7/checkpopmodels from 644 to 755\n",
            "creating build/bdist.linux-x86_64/egg/EGG-INFO/scripts\n",
            "copying build/scripts-3.7/plot-pop-model -> build/bdist.linux-x86_64/egg/EGG-INFO/scripts\n",
            "copying build/scripts-3.7/extract-pop-param-quantiles -> build/bdist.linux-x86_64/egg/EGG-INFO/scripts\n",
            "copying build/scripts-3.7/reweight-masses -> build/bdist.linux-x86_64/egg/EGG-INFO/scripts\n",
            "copying build/scripts-3.7/infer-pop-params.sh -> build/bdist.linux-x86_64/egg/EGG-INFO/scripts\n",
            "copying build/scripts-3.7/build-ppd -> build/bdist.linux-x86_64/egg/EGG-INFO/scripts\n",
            "copying build/scripts-3.7/POP-FIT-CONDOR -> build/bdist.linux-x86_64/egg/EGG-INFO/scripts\n",
            "copying build/scripts-3.7/sample-pop-params.sh -> build/bdist.linux-x86_64/egg/EGG-INFO/scripts\n",
            "copying build/scripts-3.7/sample-pop-params -> build/bdist.linux-x86_64/egg/EGG-INFO/scripts\n",
            "copying build/scripts-3.7/write-execs -> build/bdist.linux-x86_64/egg/EGG-INFO/scripts\n",
            "copying build/scripts-3.7/infer-pop-params -> build/bdist.linux-x86_64/egg/EGG-INFO/scripts\n",
            "copying build/scripts-3.7/checkpopmodels -> build/bdist.linux-x86_64/egg/EGG-INFO/scripts\n",
            "changing mode of build/bdist.linux-x86_64/egg/EGG-INFO/scripts/plot-pop-model to 755\n",
            "changing mode of build/bdist.linux-x86_64/egg/EGG-INFO/scripts/extract-pop-param-quantiles to 755\n",
            "changing mode of build/bdist.linux-x86_64/egg/EGG-INFO/scripts/reweight-masses to 755\n",
            "changing mode of build/bdist.linux-x86_64/egg/EGG-INFO/scripts/infer-pop-params.sh to 755\n",
            "changing mode of build/bdist.linux-x86_64/egg/EGG-INFO/scripts/build-ppd to 755\n",
            "changing mode of build/bdist.linux-x86_64/egg/EGG-INFO/scripts/POP-FIT-CONDOR to 755\n",
            "changing mode of build/bdist.linux-x86_64/egg/EGG-INFO/scripts/sample-pop-params.sh to 755\n",
            "changing mode of build/bdist.linux-x86_64/egg/EGG-INFO/scripts/sample-pop-params to 755\n",
            "changing mode of build/bdist.linux-x86_64/egg/EGG-INFO/scripts/write-execs to 755\n",
            "changing mode of build/bdist.linux-x86_64/egg/EGG-INFO/scripts/infer-pop-params to 755\n",
            "changing mode of build/bdist.linux-x86_64/egg/EGG-INFO/scripts/checkpopmodels to 755\n",
            "copying sodapop.egg-info/PKG-INFO -> build/bdist.linux-x86_64/egg/EGG-INFO\n",
            "copying sodapop.egg-info/SOURCES.txt -> build/bdist.linux-x86_64/egg/EGG-INFO\n",
            "copying sodapop.egg-info/dependency_links.txt -> build/bdist.linux-x86_64/egg/EGG-INFO\n",
            "copying sodapop.egg-info/top_level.txt -> build/bdist.linux-x86_64/egg/EGG-INFO\n",
            "creating dist\n",
            "creating 'dist/sodapop-0.0-py3.7.egg' and adding 'build/bdist.linux-x86_64/egg' to it\n",
            "removing 'build/bdist.linux-x86_64/egg' (and everything under it)\n",
            "Processing sodapop-0.0-py3.7.egg\n",
            "Copying sodapop-0.0-py3.7.egg to /opt/lib/python3.7/site-packages\n",
            "Adding sodapop 0.0 to easy-install.pth file\n",
            "Installing POP-FIT-CONDOR script to /opt//bin\n",
            "Installing build-ppd script to /opt//bin\n",
            "Installing checkpopmodels script to /opt//bin\n",
            "Installing extract-pop-param-quantiles script to /opt//bin\n",
            "Installing infer-pop-params script to /opt//bin\n",
            "Installing infer-pop-params.sh script to /opt//bin\n",
            "Installing plot-pop-model script to /opt//bin\n",
            "Installing reweight-masses script to /opt//bin\n",
            "Installing sample-pop-params script to /opt//bin\n",
            "Installing sample-pop-params.sh script to /opt//bin\n",
            "Installing write-execs script to /opt//bin\n",
            "\n",
            "Installed /opt/lib/python3.7/site-packages/sodapop-0.0-py3.7.egg\n",
            "Processing dependencies for sodapop==0.0\n",
            "Finished processing dependencies for sodapop==0.0\n",
            "Collecting emcee\n",
            "  Downloading emcee-3.1.1-py2.py3-none-any.whl (45 kB)\n",
            "Requirement already satisfied: numpy in /usr/local/lib/python3.7/dist-packages (from emcee) (1.19.5)\n",
            "Installing collected packages: emcee\n",
            "Successfully installed emcee-3.1.1\n",
            "\n",
            " *** \n",
            "\n",
            "usage: sample-pop-params [-h] [-d DELIM] [-n NUMSAMPS]\n",
            "                         [-p PRIORS [PRIORS ...]] [-F FIXED [FIXED ...]]\n",
            "                         [-o OUTPATH] [-g GRIDPTS] [-v]\n",
            "                         popmodel\n",
            "\n",
            "SAMPLE-POP-PARAMS -- sample population model parameters\n",
            "\n",
            "positional arguments:\n",
            "  popmodel\n",
            "\n",
            "optional arguments:\n",
            "  -h, --help            show this help message and exit\n",
            "  -d DELIM, --delim DELIM\n",
            "                        delimiter for data file, DEFAULT=\",\"\n",
            "  -n NUMSAMPS, --numsamps NUMSAMPS\n",
            "                        number of samples to draw, DEFAULT=1000\n",
            "  -p PRIORS [PRIORS ...], --priors PRIORS [PRIORS ...]\n",
            "                        prior distribution and hyperparameters for each\n",
            "                        population parameter, DEFAULT=\"mmax+flat,0.,1.\"\n",
            "  -F FIXED [FIXED ...], --fixed FIXED [FIXED ...]\n",
            "                        fixed population parameter values (e.g. mmin,1.0),\n",
            "                        DEFAULT=False\n",
            "  -o OUTPATH, --outpath OUTPATH\n",
            "                        path for output reweighted samples, DEFAULT=AUTO\n",
            "  -g GRIDPTS, --gridpts GRIDPTS\n",
            "                        number of grid points to build prior on, DEFAULT=10000\n",
            "  -v, --verbose\n",
            "\n",
            " *** \n",
            "\n",
            "usage: infer-pop-params [-h] [-C CLAS [CLAS ...]] [-c COL [COL ...]]\n",
            "                        [-l NLIKE] [-p POPMOD POPMOD] [-P PRIORS [PRIORS ...]]\n",
            "                        [-F FIXED [FIXED ...]] [-D DISTPRIOR]\n",
            "                        [-B BHPOP [BHPOP ...]] [-f SELFUNC] [-S SELPRIORS]\n",
            "                        [-s NSEL] [-t NPOST] [-w NWALK] [-b NBURN]\n",
            "                        [-o OUTPATH] [-d DELIM] [--batch BATCH] [--diag] [-v]\n",
            "                        popparams likedata [likedata ...]\n",
            "\n",
            "INFER-POP-PARAMS -- infer population parameters based on population model and\n",
            "observations\n",
            "\n",
            "positional arguments:\n",
            "  popparams\n",
            "  likedata\n",
            "\n",
            "optional arguments:\n",
            "  -h, --help            show this help message and exit\n",
            "  -C CLAS [CLAS ...], --clas CLAS [CLAS ...]\n",
            "                        bns or nsbh classification of each event, DEFAULT=\"bns\n",
            "                        bns nsbh ...\"\n",
            "  -c COL [COL ...], --col COL [COL ...]\n",
            "                        name of mass1, mass2, distance and likelihood data\n",
            "                        columns to use, DEFAULT=\"m1 m2 dL z likelihood\"\n",
            "  -l NLIKE, --nlike NLIKE\n",
            "                        number of likelihood samples to use, DEFAULT=1e3\n",
            "  -p POPMOD POPMOD, --popmod POPMOD POPMOD\n",
            "                        name of BNS and NSBH population models,\n",
            "                        DEFAULT=\"unif_m1m2 unif_m1_unif_m2_qpair\"\n",
            "  -P PRIORS [PRIORS ...], --priors PRIORS [PRIORS ...]\n",
            "                        prior distribution and hyperparameters for each\n",
            "                        population parameter,\n",
            "                        DEFAULT=\"mmin,mmax+flat12,1.,1.5,1.5,3.\"\n",
            "  -F FIXED [FIXED ...], --fixed FIXED [FIXED ...]\n",
            "                        fixed population parameter values (e.g. mmin,1.0),\n",
            "                        DEFAULT=False\n",
            "  -D DISTPRIOR, --distprior DISTPRIOR\n",
            "                        prior distribution for the distance,\n",
            "                        DEFAULT=\"quad,0.,1000.\"\n",
            "  -B BHPOP [BHPOP ...], --bhpop BHPOP [BHPOP ...]\n",
            "                        population parameters for fixed BH mass model (e.g.\n",
            "                        mmin mmax beta), DEFAULT=3. 60. 2.\n",
            "  -f SELFUNC, --selfunc SELFUNC\n",
            "                        name of selection function, DEFAULT=False\n",
            "  -S SELPRIORS, --selpriors SELPRIORS\n",
            "                        ranges in m1,m2 and dL for integrating selection\n",
            "                        function, DEFAULT=\"1.,60.,1.,3.,0.,1000.\"\n",
            "  -s NSEL, --nsel NSEL  number of samples to use for integrating selection\n",
            "                        function, DEFAULT=10000\n",
            "  -t NPOST, --npost NPOST\n",
            "                        target number of posterior samples, DEFAULT=10000\n",
            "  -w NWALK, --nwalk NWALK\n",
            "                        number of MCMC chains, DEFAULT=15\n",
            "  -b NBURN, --nburn NBURN\n",
            "                        number of burn-in samples, DEFAULT=1000\n",
            "  -o OUTPATH, --outpath OUTPATH\n",
            "                        path for output population parameter samples,\n",
            "                        DEFAULT=AUTO\n",
            "  -d DELIM, --delim DELIM\n",
            "                        delimiter for data file, DEFAULT=\",\"\n",
            "  --batch BATCH         start line of population parameters file for batch\n",
            "                        mode operation, DEFAULT=False\n",
            "  --diag                produce diagnostic plots, DEFAULT=False\n",
            "  -v, --verbose\n",
            "\n",
            " *** \n",
            "\n",
            "usage: build-ppd [-h] [-p POPMOD] [-s NSEL] [-m MAXSAMPS] [-f SELFUNC]\n",
            "                 [-o OUTPATH] [-d DELIM] [-t TYPE] [-v]\n",
            "                 popparams\n",
            "\n",
            "BUILD-PPD -- build posterior predictive distribution from posterior population\n",
            "distribution\n",
            "\n",
            "positional arguments:\n",
            "  popparams\n",
            "\n",
            "optional arguments:\n",
            "  -h, --help            show this help message and exit\n",
            "  -p POPMOD, --popmod POPMOD\n",
            "                        name of population model, DEFAULT=\"unif_m1m2\"\n",
            "  -s NSEL, --nsel NSEL  number of samples to use for integrating ppd,\n",
            "                        DEFAULT=5000\n",
            "  -m MAXSAMPS, --maxsamps MAXSAMPS\n",
            "                        maximum number of population samples to use in\n",
            "                        marginalization, DEFAULT=10000\n",
            "  -f SELFUNC, --selfunc SELFUNC\n",
            "                        name of selection function, DEFAULT=False\n",
            "  -o OUTPATH, --outpath OUTPATH\n",
            "                        path for output ppd file, DEFAULT=AUTO\n",
            "  -d DELIM, --delim DELIM\n",
            "                        delimiter for data file, DEFAULT=\",\"\n",
            "  -t TYPE, --type TYPE  type of ppd to plot, DEFAULT=mean\n",
            "  -v, --verbose\n",
            "\n",
            " *** \n",
            "\n"
          ]
        },
        {
          "output_type": "stream",
          "name": "stderr",
          "text": [
            "Cloning into 'sodapop-em'...\n",
            "zip_safe flag not set; analyzing archive contents...\n"
          ]
        }
      ]
    },
    {
      "cell_type": "code",
      "metadata": {
        "id": "cEUJcmIj3S27"
      },
      "source": [
        "#population inference\n",
        "\n",
        "# observations\n",
        "PATH = 'sodapop-em/etc/' \n",
        "likelihood = 'BNS_0_reweighted.csv,BNS_1_reweighted.csv,BNS_2_reweighted.csv,BNS_3_reweighted.csv,BNS_4_reweighted.csv'\n",
        "dat_type = 'bns,bns,bns,bns,bns' \n",
        "likelihood_num = 100 \n",
        "\n",
        "# population model using the power law in masses where the convention is m1 >= m2\n",
        "pop_mod = 'power_m1m2' \n",
        "cb_mod = 'unif_m1_power_m2_qpair' \n",
        "pop_param = 'mmin,mmax+flat12,1.,1.5,1.5,3. alpha+flat,-1.,1.' #added a parameter for alpha here; need alpha centered around zero so trying these bounds(??)\n",
        "mcmc_start = 'mmin,mmax+flat12,1.,1.4,1.8,2.4 alpha+flat,-0.1,0.1' #trying with an alpha parameter here too\n",
        "\n",
        "# selection effect\n",
        "chirp_mass = 'chirpmass52' \n",
        "samp_num = 1000 #number of samples to use for monte carlo calculation of detection fraction\n",
        "\n",
        "# mcmc algorithm\n",
        "walks = 10 #number of walkers for mcmc\n",
        "post_samp = 100 #only start saving posterior samples after this number of steps\n",
        "post_num = 1000 #number of posterior samples to aim for\n",
        "\n",
        "# postprocessing\n",
        "pop_num = 1000 #how many population models to average when computing inferred mass distribution"
      ],
      "execution_count": 2,
      "outputs": []
    },
    {
      "cell_type": "code",
      "metadata": {
        "id": "gurOLsEE3l-Q"
      },
      "source": [
        "# draw population parameter samples from model\n",
        "\n",
        "%%bash -s \"$pop_mod\" \"$walks\" \"$mcmc_start\"\n",
        "# this cell is a separate terminal instance; with the -s option we are passing the variables we defined above into the terminal as $1,$2,...\n",
        "\n",
        "export PATH=$PATH:/opt/bin # the code doesn't need to be reinstalled in each terminal, but we do need to point to the install directory like this each time\n",
        "export PYTHONPATH=$PYTHONPATH:/opt/lib/python3.7/site-packages\n",
        "\n",
        "sample-pop-params $1 -n $2 -p $3 -o ${1}_prior.csv -v # call the executable that draws the starting samples for the mcmc algorithm\n",
        "# sample-pop-params [population model] -n [number of mcmc walkers] -p [distribution to draw population parameters from] -o [path where population samples should be output]"
      ],
      "execution_count": 3,
      "outputs": []
    },
    {
      "cell_type": "code",
      "metadata": {
        "colab": {
          "base_uri": "https://localhost:8080/"
        },
        "id": "KvE1R_5x33IE",
        "outputId": "16e74edd-5f7a-42f0-9a6b-964244dad956"
      },
      "source": [
        "# do the population inference based on the gravitational-wave observations\n",
        "\n",
        "%%bash -s \"$likelihood\" \"$pop_mod\" \"$PATH\" \"$cb_mod\" \"$dat_type\" \"$likelihood_num\" \"$pop_param\" \"$chirp_mass\" \"$samp_num\" \"$post_num\" \"$walks\" \"$post_samp\"\n",
        "\n",
        "export PATH=$PATH:/opt/bin\n",
        "export PYTHONPATH=$PYTHONPATH:/opt/lib/python3.7/site-packages\n",
        "\n",
        "IFS=',' read -r -a likes <<< \"$1\" # some bash magic to turn the lists into arrays\n",
        "IFS=',' read -r -a classes <<< \"$5\"\n",
        "\n",
        "infer-pop-params ${2}_prior.csv $(for like in \"${likes[@]}\"; do echo -n \"${3}/${like} \"; done) -p $2 $4 -C $(for class in \"${classes[@]}\"; do echo -n \"${class} \"; done) -c m1_source m2_source dL z likelihood -l $6 -P $7 -B 3. 60. 0. -f $8 -s $9 -t ${10} -w ${11} -b ${12} -o ${2}.csv --diag -v # call the executable that runs the mcmc algorithm\n",
        "# infer-pop-params [prior samples] [likelihood1 likelihood2 ...] -p [bns_pop_model nsbh_pop_model] -C [bns bns  ...] -c [likelihood column names] -l [number of likelihood samples] -P [prior distribution] -B [fixed black hole population parameters] -f [selection function] -s [number of selection samples] -t [number of posterior samples] -w [number of walkers] -b [number of burn-in samples] -o [path where posterior samples should be output]"
      ],
      "execution_count": 4,
      "outputs": [
        {
          "output_type": "stream",
          "name": "stdout",
          "text": [
            "walkers: 10, burn in: 100, target posterior samples: 1000, likelihood samples: 100, selection effect samples: 1000\n",
            "Loading likelihood data...\n",
            "sodapop-em/etc//BNS_0_reweighted.csv\n",
            "sodapop-em/etc//BNS_1_reweighted.csv\n",
            "sodapop-em/etc//BNS_2_reweighted.csv\n",
            "sodapop-em/etc//BNS_3_reweighted.csv\n",
            "sodapop-em/etc//BNS_4_reweighted.csv\n",
            "emcee ran for 9.631369829177856 seconds\n",
            "autocorrelation lengths for population parameters are [39.80839006 48.60146201 36.31527768]\n",
            "number of independent samples is 210\n",
            "effective samples per second is 21\n"
          ]
        },
        {
          "output_type": "stream",
          "name": "stderr",
          "text": [
            "/opt/lib/python3.7/site-packages/sodapop-0.0-py3.7.egg/sodapop/emcee.py:39: RuntimeWarning: divide by zero encountered in log\n",
            "/usr/local/lib/python3.7/dist-packages/emcee/moves/red_blue.py:99: RuntimeWarning: invalid value encountered in double_scalars\n",
            "  lnpdiff = f + nlp - state.log_prob[j]\n",
            "/opt/lib/python3.7/site-packages/sodapop-0.0-py3.7.egg/sodapop/emcee.py:15: RuntimeWarning: divide by zero encountered in log\n",
            "The chain is shorter than 50 times the integrated autocorrelation time for 3 parameter(s). Use this estimate with caution and run a longer chain!\n",
            "N/50 = 22;\n",
            "tau: [39.80839006 48.60146201 36.31527768]\n"
          ]
        }
      ]
    },
    {
      "cell_type": "code",
      "metadata": {
        "id": "O-uLn_GM4Bph"
      },
      "source": [
        "# calculate the inferred mass distribution from the population posterior samples\n",
        "\n",
        "%%bash -s \"$pop_mod\" \"$samp_num\" \"$chirp_mass\" \"$pop_num\"\n",
        "\n",
        "export PATH=$PATH:/opt/bin\n",
        "export PYTHONPATH=$PYTHONPATH:/opt/lib/python3.7/site-packages\n",
        "\n",
        "build-ppd ${1}.csv -p $1 -s $2 -f $3 -m $4 -o ${1}_ppd.csv -v # call the executable that draws the starting samples for the mcmc algorithm\n",
        "# build-ppd [posterior samples] -p [population model] -s [number of selection effect samples] -f [selection function] -m [number of population models to average] -o [path where inferred mass distribution should be output]"
      ],
      "execution_count": 5,
      "outputs": []
    },
    {
      "cell_type": "code",
      "metadata": {
        "id": "dgc2QyJW4MWg"
      },
      "source": [
        "import numpy as np\n",
        "import matplotlib.pyplot as plt\n",
        "import seaborn as sns\n",
        "import pandas as pd"
      ],
      "execution_count": 6,
      "outputs": []
    },
    {
      "cell_type": "code",
      "metadata": {
        "colab": {
          "base_uri": "https://localhost:8080/",
          "height": 374
        },
        "id": "wmoViTk24ctx",
        "outputId": "f57de9fb-9485-403a-e756-f0e117d8b806"
      },
      "source": [
        "#corner plot\n",
        "\n",
        "post_dat = np.genfromtxt(pop_mod+'.csv',delimiter=',',names=True,dtype=None)\n",
        "\n",
        "params = post_dat.dtype.names[1:3] \n",
        "post = np.column_stack([post_dat[param] for param in params]) \n",
        "post_frame = pd.DataFrame(post,columns=params)\n",
        "\n",
        "fig = sns.pairplot(post_frame, kind='scatter', markers='.', diag_kind='kde', corner=True, diag_kws=dict(lw=1,common_norm=False))\n",
        "fig.map_lower(sns.kdeplot, levels=[0.1,0.5]) \n",
        "\n",
        "plt.title ('Corner Plot for 5 Observations (Power Model)')\n",
        "plt.show()"
      ],
      "execution_count": 7,
      "outputs": [
        {
          "output_type": "display_data",
          "data": {
            "image/png": "[encoded data removed]",
            "text/plain": [
              "<Figure size 360x360 with 5 Axes>"
            ]
          },
          "metadata": {
            "needs_background": "light"
          }
        }
      ]
    },
    {
      "cell_type": "code",
      "metadata": {
        "colab": {
          "base_uri": "https://localhost:8080/",
          "height": 299
        },
        "id": "ixiGSKmn4eYm",
        "outputId": "6e09fbb5-88be-41c0-a6e7-d787174219cb"
      },
      "source": [
        "ppd_data = np.genfromtxt(pop_mod+'_ppd.csv',delimiter=',',names=True,dtype=None) \n",
        "\n",
        "colours = plt.rcParams['axes.prop_cycle'].by_key()['color'] # pyplot magic to get default colours\n",
        "\n",
        "plt.plot(ppd_data['m'],ppd_data['med'],lw=3, color='b') # inferred mass distribution median \n",
        "plt.plot(ppd_data['m'],ppd_data['ub'],lw=1, color='b') #upper error bound\n",
        "plt.plot(ppd_data['m'],ppd_data['lb'],lw=1, color='b') #lower error bound\n",
        "\n",
        "plt.title ('Inferred Mass Distribtution Median for 5 Observations (Power Model)')\n",
        "plt.xlabel(r'$M$ [$M_\\odot$]')\n",
        "plt.ylabel(r'$p_\\lambda(m|\\lambda)$')\n",
        "plt.show()"
      ],
      "execution_count": 9,
      "outputs": [
        {
          "output_type": "display_data",
          "data": {
            "image/png": "[encoded data removed]",
            "text/plain": [
              "<Figure size 432x288 with 1 Axes>"
            ]
          },
          "metadata": {
            "needs_background": "light"
          }
        }
      ]
    },
    {
      "cell_type": "code",
      "metadata": {
        "id": "7oI2FiTBWgi3"
      },
      "source": [
        ""
      ],
      "execution_count": 17,
      "outputs": []
    },
    {
      "cell_type": "code",
      "metadata": {
        "id": "CH_IynwzSOTC"
      },
      "source": [
        "#population inference\n",
        "\n",
        "# observations\n",
        "PATH = 'sodapop-em/etc/' \n",
        "likelihood = 'BNS_0_reweighted.csv,BNS_1_reweighted.csv,BNS_2_reweighted.csv,BNS_3_reweighted.csv,BNS_4_reweighted.csv'\n",
        "dat_type = 'bns,bns,bns,bns,bns' \n",
        "likelihood_num = 100 \n",
        "\n",
        "# population model using the power law in masses where the convention is m1 >= m2\n",
        "pop_mod = 'peakcut_m1m2' \n",
        "cb_mod = 'unif_m1_peakcut_m2_qpair' \n",
        "pop_param = 'mmin,mmax+flat12,1.,1.5,1.5,3. mu+flat,1.,3. sigma+flat,0.01,2.' #added a parameter for alpha here; need alpha centered around zero so trying these bounds(??)\n",
        "mcmc_start = 'mmin,mmax+flat12,1.,1.4,1.8,2.4 mu+flat,1.,3. sigma+flat,0.01,2.' #trying with an alpha parameter here too\n",
        "\n",
        "# selection effect\n",
        "chirp_mass = 'chirpmass52' \n",
        "samp_num = 1000 #number of samples to use for monte carlo calculation of detection fraction\n",
        "\n",
        "# mcmc algorithm\n",
        "walks = 10 #number of walkers for mcmc\n",
        "post_samp = 100 #only start saving posterior samples after this number of steps\n",
        "post_num = 1000 #number of posterior samples to aim for\n",
        "\n",
        "# postprocessing\n",
        "pop_num = 1000 #how many population models to average when computing inferred mass distribution"
      ],
      "execution_count": 10,
      "outputs": []
    },
    {
      "cell_type": "code",
      "metadata": {
        "id": "BljW8VyjSgCF"
      },
      "source": [
        "# draw population parameter samples from model\n",
        "\n",
        "%%bash -s \"$pop_mod\" \"$walks\" \"$mcmc_start\"\n",
        "# this cell is a separate terminal instance; with the -s option we are passing the variables we defined above into the terminal as $1,$2,...\n",
        "\n",
        "export PATH=$PATH:/opt/bin # the code doesn't need to be reinstalled in each terminal, but we do need to point to the install directory like this each time\n",
        "export PYTHONPATH=$PYTHONPATH:/opt/lib/python3.7/site-packages\n",
        "\n",
        "sample-pop-params $1 -n $2 -p $3 -o ${1}_prior.csv -v # call the executable that draws the starting samples for the mcmc algorithm\n",
        "# sample-pop-params [population model] -n [number of mcmc walkers] -p [distribution to draw population parameters from] -o [path where population samples should be output]"
      ],
      "execution_count": 11,
      "outputs": []
    },
    {
      "cell_type": "code",
      "metadata": {
        "colab": {
          "base_uri": "https://localhost:8080/"
        },
        "id": "lKZ7CUY8Sio0",
        "outputId": "ad408788-3769-49e8-9615-355325ad56b6"
      },
      "source": [
        "# do the population inference based on the gravitational-wave observations\n",
        "\n",
        "%%bash -s \"$likelihood\" \"$pop_mod\" \"$PATH\" \"$cb_mod\" \"$dat_type\" \"$likelihood_num\" \"$pop_param\" \"$chirp_mass\" \"$samp_num\" \"$post_num\" \"$walks\" \"$post_samp\"\n",
        "\n",
        "export PATH=$PATH:/opt/bin\n",
        "export PYTHONPATH=$PYTHONPATH:/opt/lib/python3.7/site-packages\n",
        "\n",
        "IFS=',' read -r -a likes <<< \"$1\" # some bash magic to turn the lists into arrays\n",
        "IFS=',' read -r -a classes <<< \"$5\"\n",
        "\n",
        "infer-pop-params ${2}_prior.csv $(for like in \"${likes[@]}\"; do echo -n \"${3}/${like} \"; done) -p $2 $4 -C $(for class in \"${classes[@]}\"; do echo -n \"${class} \"; done) -c m1_source m2_source dL z likelihood -l $6 -P $7 -B 3. 60. 0. -f $8 -s $9 -t ${10} -w ${11} -b ${12} -o ${2}.csv --diag -v # call the executable that runs the mcmc algorithm\n",
        "# infer-pop-params [prior samples] [likelihood1 likelihood2 ...] -p [bns_pop_model nsbh_pop_model] -C [bns bns  ...] -c [likelihood column names] -l [number of likelihood samples] -P [prior distribution] -B [fixed black hole population parameters] -f [selection function] -s [number of selection samples] -t [number of posterior samples] -w [number of walkers] -b [number of burn-in samples] -o [path where posterior samples should be output]"
      ],
      "execution_count": 12,
      "outputs": [
        {
          "output_type": "stream",
          "name": "stdout",
          "text": [
            "walkers: 10, burn in: 100, target posterior samples: 1000, likelihood samples: 100, selection effect samples: 1000\n",
            "Loading likelihood data...\n",
            "sodapop-em/etc//BNS_0_reweighted.csv\n",
            "sodapop-em/etc//BNS_1_reweighted.csv\n",
            "sodapop-em/etc//BNS_2_reweighted.csv\n",
            "sodapop-em/etc//BNS_3_reweighted.csv\n",
            "sodapop-em/etc//BNS_4_reweighted.csv\n",
            "emcee ran for 9.044825077056885 seconds\n",
            "autocorrelation lengths for population parameters are [48.83313696 56.85450735 80.08367919 44.38031274]\n",
            "number of independent samples is 130\n",
            "effective samples per second is 14\n"
          ]
        },
        {
          "output_type": "stream",
          "name": "stderr",
          "text": [
            "/opt/lib/python3.7/site-packages/sodapop-0.0-py3.7.egg/sodapop/emcee.py:39: RuntimeWarning: divide by zero encountered in log\n",
            "/usr/local/lib/python3.7/dist-packages/emcee/moves/red_blue.py:99: RuntimeWarning: invalid value encountered in double_scalars\n",
            "  lnpdiff = f + nlp - state.log_prob[j]\n",
            "/opt/lib/python3.7/site-packages/sodapop-0.0-py3.7.egg/sodapop/emcee.py:15: RuntimeWarning: divide by zero encountered in log\n",
            "/opt/lib/python3.7/site-packages/sodapop-0.0-py3.7.egg/sodapop/populations.py:97: RuntimeWarning: divide by zero encountered in true_divide\n",
            "/opt/lib/python3.7/site-packages/sodapop-0.0-py3.7.egg/sodapop/populations.py:173: RuntimeWarning: invalid value encountered in multiply\n",
            "/opt/lib/python3.7/site-packages/sodapop-0.0-py3.7.egg/sodapop/populations.py:97: RuntimeWarning: invalid value encountered in true_divide\n",
            "The chain is shorter than 50 times the integrated autocorrelation time for 4 parameter(s). Use this estimate with caution and run a longer chain!\n",
            "N/50 = 22;\n",
            "tau: [48.83313696 56.85450735 80.08367919 44.38031274]\n"
          ]
        }
      ]
    },
    {
      "cell_type": "code",
      "metadata": {
        "id": "fpzyMsYqSu5U"
      },
      "source": [
        "# calculate the inferred mass distribution from the population posterior samples\n",
        "\n",
        "%%bash -s \"$pop_mod\" \"$samp_num\" \"$chirp_mass\" \"$pop_num\"\n",
        "\n",
        "export PATH=$PATH:/opt/bin\n",
        "export PYTHONPATH=$PYTHONPATH:/opt/lib/python3.7/site-packages\n",
        "\n",
        "build-ppd ${1}.csv -p $1 -s $2 -f $3 -m $4 -o ${1}_ppd.csv -v # call the executable that draws the starting samples for the mcmc algorithm\n",
        "# build-ppd [posterior samples] -p [population model] -s [number of selection effect samples] -f [selection function] -m [number of population models to average] -o [path where inferred mass distribution should be output]"
      ],
      "execution_count": 13,
      "outputs": []
    },
    {
      "cell_type": "code",
      "metadata": {
        "colab": {
          "base_uri": "https://localhost:8080/",
          "height": 656
        },
        "id": "P-r9DvpFTJC5",
        "outputId": "3c3d3597-01ef-4fd6-8642-226c78cb8e92"
      },
      "source": [
        "#corner plot\n",
        "\n",
        "post_dat = np.genfromtxt(pop_mod+'.csv',delimiter=',',names=True,dtype=None)\n",
        "\n",
        "params = post_dat.dtype.names[2:4] \n",
        "post = np.column_stack([post_dat[param] for param in params]) \n",
        "post_frame = pd.DataFrame(post,columns=params)\n",
        "\n",
        "fig = sns.pairplot(post_frame, kind='scatter', markers='.', diag_kind='kde', corner=True, diag_kws=dict(lw=1,common_norm=False))\n",
        "fig.map_lower(sns.kdeplot, levels=[0.1,0.5]) \n",
        "\n",
        "plt.title ('Corner Plot for 5 Observations (Peak Model)')\n",
        "plt.show()\n",
        "\n",
        "ppd_data = np.genfromtxt(pop_mod+'_ppd.csv',delimiter=',',names=True,dtype=None) \n",
        "\n",
        "colours = plt.rcParams['axes.prop_cycle'].by_key()['color'] # pyplot magic to get default colours\n",
        "\n",
        "plt.plot(ppd_data['m'],ppd_data['med'],lw=3, color='b') # inferred mass distribution median \n",
        "plt.plot(ppd_data['m'],ppd_data['ub'],lw=1, color='b') #upper error bound\n",
        "plt.plot(ppd_data['m'],ppd_data['lb'],lw=1, color='b') #lower error bound\n",
        "\n",
        "plt.title ('Inferred Mass Distribtution Median for 5 Observations (Peak Model)')\n",
        "plt.xlabel(r'$M$ [$M_\\odot$]')\n",
        "plt.ylabel(r'$p_\\lambda(m|\\lambda)$')\n",
        "plt.show()"
      ],
      "execution_count": 14,
      "outputs": [
        {
          "output_type": "display_data",
          "data": {
            "image/png": "[encoded data removed]",
            "text/plain": [
              "<Figure size 360x360 with 5 Axes>"
            ]
          },
          "metadata": {
            "needs_background": "light"
          }
        },
        {
          "output_type": "display_data",
          "data": {
            "image/png": "[encoded data removed]",
            "text/plain": [
              "<Figure size 432x288 with 1 Axes>"
            ]
          },
          "metadata": {
            "needs_background": "light"
          }
        }
      ]
    },
    {
      "cell_type": "code",
      "metadata": {
        "id": "2mpwgJE2Tiw8"
      },
      "source": [
        ""
      ],
      "execution_count": null,
      "outputs": []
    }
  ]
}